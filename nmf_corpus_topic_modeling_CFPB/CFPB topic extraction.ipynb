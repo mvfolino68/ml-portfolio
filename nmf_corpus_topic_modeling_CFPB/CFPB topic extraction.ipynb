{
  "nbformat": 4,
  "nbformat_minor": 0,
  "metadata": {
    "colab": {
      "name": "CFPB Text Topic Extraction.ipynb",
      "version": "0.3.2",
      "provenance": [],
      "collapsed_sections": [],
      "include_colab_link": true
    },
    "kernelspec": {
      "display_name": "Python 3",
      "language": "python",
      "name": "python3"
    }
  },
  "cells": [
    {
      "cell_type": "markdown",
      "metadata": {
        "id": "view-in-github",
        "colab_type": "text"
      },
      "source": [
        "<a href=\"https://colab.research.google.com/github/mvfolino68/portfolio/blob/master/nmf_corpus_topic_modeling_CFPB/CFPB%20topic%20extraction.ipynb\" target=\"_parent\"><img src=\"https://colab.research.google.com/assets/colab-badge.svg\" alt=\"Open In Colab\"/></a>"
      ]
    },
    {
      "cell_type": "markdown",
      "metadata": {
        "id": "0PFm02jBIKxS",
        "colab_type": "text"
      },
      "source": [
        "#Machine Learning"
      ]
    },
    {
      "cell_type": "markdown",
      "metadata": {
        "id": "zDEjhoNmIWx6",
        "colab_type": "text"
      },
      "source": [
        "##What Exactly is AI and Machine Learning?\n",
        "![alt text](https://s29093.pcdn.co/wp-content/uploads/2018/09/AI-Terminology-Header.png)\n",
        "\n",
        "---\n",
        "\n",
        "\n"
      ]
    },
    {
      "cell_type": "markdown",
      "metadata": {
        "id": "4B1m2xuNJrS9",
        "colab_type": "text"
      },
      "source": [
        "![alt text](https://neptune-int.com/machine-learning/img/learn-predict-act.png)\n",
        "\n",
        "---\n",
        "\n",
        "\n"
      ]
    },
    {
      "cell_type": "markdown",
      "metadata": {
        "id": "1vRUcjxDOeyu",
        "colab_type": "text"
      },
      "source": [
        "![alt text](https://www.consumerfinance.gov/static/img/logo_237x50.c7c2ba6c929f.png)\n",
        "\n",
        "---\n",
        "\n",
        "\n",
        "#Our Problem - Identify Common Topics in Customer Complaints to Consumer Financial Protection Bureau\n",
        "\n",
        "\n",
        "---\n",
        "\n",
        "\n",
        "#Our Solution - Use Non Negative Matrix Factorization and Natural Language Processing to Extract Repeated Topics\n",
        "\n",
        "---\n",
        "\n"
      ]
    },
    {
      "cell_type": "markdown",
      "metadata": {
        "id": "JtMKErCJ3b_K",
        "colab_type": "text"
      },
      "source": [
        "##Import Modules"
      ]
    },
    {
      "cell_type": "code",
      "metadata": {
        "id": "ikwlazzBJ7l1",
        "colab_type": "code",
        "colab": {}
      },
      "source": [
        "from __future__ import absolute_import\n",
        "from __future__ import division\n",
        "from __future__ import print_function"
      ],
      "execution_count": 0,
      "outputs": []
    },
    {
      "cell_type": "code",
      "metadata": {
        "id": "ckB5ZBV6J7l6",
        "colab_type": "code",
        "outputId": "bd0faf33-6da8-40e9-ceba-cfd342bdbd5c",
        "colab": {
          "base_uri": "https://localhost:8080/",
          "height": 68
        }
      },
      "source": [
        "import itertools\n",
        "import os\n",
        "\n",
        "import numpy as np\n",
        "import pandas as pd\n",
        "import matplotlib.pyplot as plt\n",
        "import seaborn as sns\n",
        "import string\n",
        "\n",
        "from sklearn.preprocessing import LabelBinarizer, LabelEncoder\n",
        "from sklearn.feature_extraction.stop_words import ENGLISH_STOP_WORDS\n",
        "\n",
        "from sklearn.decomposition import NMF, LatentDirichletAllocation\n",
        "from sklearn.feature_extraction.text import TfidfVectorizer, CountVectorizer\n",
        "from time import time\n",
        "\n",
        "import nltk\n",
        "from nltk.stem import WordNetLemmatizer \n",
        "nltk.download('wordnet')\n",
        "\n",
        "print(__doc__)\n"
      ],
      "execution_count": 0,
      "outputs": [
        {
          "output_type": "stream",
          "text": [
            "[nltk_data] Downloading package wordnet to /root/nltk_data...\n",
            "[nltk_data]   Package wordnet is already up-to-date!\n",
            "Automatically created module for IPython interactive environment\n"
          ],
          "name": "stdout"
        }
      ]
    },
    {
      "cell_type": "markdown",
      "metadata": {
        "id": "exRJrWucHvj-",
        "colab_type": "text"
      },
      "source": [
        "##Get the Data"
      ]
    },
    {
      "cell_type": "markdown",
      "metadata": {
        "id": "8JWPj_RG6yfg",
        "colab_type": "text"
      },
      "source": [
        "###Import Data"
      ]
    },
    {
      "cell_type": "code",
      "metadata": {
        "id": "1Y3ek1aTJ7l-",
        "colab_type": "code",
        "outputId": "9ea72168-e2b8-4254-9f5d-e578355f762b",
        "colab": {
          "base_uri": "https://localhost:8080/",
          "height": 51
        }
      },
      "source": [
        "df = pd.read_csv('https://data.consumerfinance.gov/api/views/s6ew-h6mp/rows.csv?accessType=DOWNLOAD', encoding='utf-8')"
      ],
      "execution_count": 0,
      "outputs": [
        {
          "output_type": "stream",
          "text": [
            "/usr/local/lib/python3.6/dist-packages/IPython/core/interactiveshell.py:2718: DtypeWarning: Columns (4,5,6,11,16) have mixed types. Specify dtype option on import or set low_memory=False.\n",
            "  interactivity=interactivity, compiler=compiler, result=result)\n"
          ],
          "name": "stderr"
        }
      ]
    },
    {
      "cell_type": "markdown",
      "metadata": {
        "id": "ic2X4CwXJ8r0",
        "colab_type": "text"
      },
      "source": [
        "##Pre Process and Explore the Data"
      ]
    },
    {
      "cell_type": "markdown",
      "metadata": {
        "id": "F6Ti71eM0s-9",
        "colab_type": "text"
      },
      "source": [
        "###Function creation for preprocessing"
      ]
    },
    {
      "cell_type": "code",
      "metadata": {
        "id": "mv_2O1gs0vQl",
        "colab_type": "code",
        "colab": {}
      },
      "source": [
        "#create word lemmetizer object\n",
        "lemmatizer = WordNetLemmatizer() \n",
        "\n",
        "def text_process(mess):\n",
        "    \"\"\"\n",
        "    Takes in a string of text, then performs the following:\n",
        "    1. Remove all punctuation\n",
        "    2. remove x, M, T\n",
        "    3. Remove all stopwords\n",
        "    4. remove any non alpha words\n",
        "    5. Returns a list of the cleaned text\n",
        "    \"\"\"\n",
        "    \n",
        "    # Check characters to see if they are in punctuation\n",
        "    nopunc = [char for char in mess if char not in string.punctuation]\n",
        "    nopunc = [char for char in mess if char not in ['X']]\n",
        "    \n",
        "\n",
        "    # Join the characters again to form the string.\n",
        "    nopunc = ''.join(nopunc).lower()\n",
        "    \n",
        "    clean_words = [lemmatizer.lemmatize(word) for word in nopunc.split() if word.lower() not in ENGLISH_STOP_WORDS ]\n",
        "    clean_words = [word for word in clean_words if word.lower().isalpha()]\n",
        "    \n",
        "    # Now just remove any stopwords\n",
        "    words = [word for word in clean_words if word.lower() not in ENGLISH_STOP_WORDS]\n",
        "    return ' '.join(words).lower().replace(' m t ', ' ')"
      ],
      "execution_count": 0,
      "outputs": []
    },
    {
      "cell_type": "markdown",
      "metadata": {
        "id": "a-KKqo6064FI",
        "colab_type": "text"
      },
      "source": [
        "###Pre Processing data"
      ]
    },
    {
      "cell_type": "code",
      "metadata": {
        "colab_type": "code",
        "id": "pGvAgCs_3RMi",
        "outputId": "85798f2c-fa6c-451e-eeef-9f186b5b5150",
        "colab": {
          "base_uri": "https://localhost:8080/",
          "height": 561
        }
      },
      "source": [
        "bank_name = 'M&T BANK CORPORATION'\n",
        "df = df[pd.notnull(df['Consumer complaint narrative'].str.strip())]\n",
        "df2 =df[df['Company'].str.contains(bank_name)].reset_index()\n",
        "df2['Consumer complaint narrative clean'] = df2['Consumer complaint narrative'].apply(text_process)\n",
        "df2.drop(columns=['index'])\n",
        "df2.head()\n"
      ],
      "execution_count": 0,
      "outputs": [
        {
          "output_type": "execute_result",
          "data": {
            "text/html": [
              "<div>\n",
              "<style scoped>\n",
              "    .dataframe tbody tr th:only-of-type {\n",
              "        vertical-align: middle;\n",
              "    }\n",
              "\n",
              "    .dataframe tbody tr th {\n",
              "        vertical-align: top;\n",
              "    }\n",
              "\n",
              "    .dataframe thead th {\n",
              "        text-align: right;\n",
              "    }\n",
              "</style>\n",
              "<table border=\"1\" class=\"dataframe\">\n",
              "  <thead>\n",
              "    <tr style=\"text-align: right;\">\n",
              "      <th></th>\n",
              "      <th>index</th>\n",
              "      <th>Date received</th>\n",
              "      <th>Product</th>\n",
              "      <th>Sub-product</th>\n",
              "      <th>Issue</th>\n",
              "      <th>Sub-issue</th>\n",
              "      <th>Consumer complaint narrative</th>\n",
              "      <th>Company public response</th>\n",
              "      <th>Company</th>\n",
              "      <th>State</th>\n",
              "      <th>ZIP code</th>\n",
              "      <th>Tags</th>\n",
              "      <th>Consumer consent provided?</th>\n",
              "      <th>Submitted via</th>\n",
              "      <th>Date sent to company</th>\n",
              "      <th>Company response to consumer</th>\n",
              "      <th>Timely response?</th>\n",
              "      <th>Consumer disputed?</th>\n",
              "      <th>Complaint ID</th>\n",
              "      <th>Consumer complaint narrative clean</th>\n",
              "    </tr>\n",
              "  </thead>\n",
              "  <tbody>\n",
              "    <tr>\n",
              "      <th>0</th>\n",
              "      <td>34405</td>\n",
              "      <td>03/13/2019</td>\n",
              "      <td>Mortgage</td>\n",
              "      <td>Conventional home mortgage</td>\n",
              "      <td>Trouble during payment process</td>\n",
              "      <td>NaN</td>\n",
              "      <td>I purchased a condo on XX/XX/XXXX in XXXX XXXX...</td>\n",
              "      <td>Company has responded to the consumer and the ...</td>\n",
              "      <td>M&amp;T BANK CORPORATION</td>\n",
              "      <td>NaN</td>\n",
              "      <td>NaN</td>\n",
              "      <td>NaN</td>\n",
              "      <td>Consent provided</td>\n",
              "      <td>Web</td>\n",
              "      <td>03/14/2019</td>\n",
              "      <td>Closed with explanation</td>\n",
              "      <td>Yes</td>\n",
              "      <td>NaN</td>\n",
              "      <td>3179148</td>\n",
              "      <td>purchased condo ny late mortgage continued pay...</td>\n",
              "    </tr>\n",
              "    <tr>\n",
              "      <th>1</th>\n",
              "      <td>41058</td>\n",
              "      <td>03/05/2019</td>\n",
              "      <td>Mortgage</td>\n",
              "      <td>FHA mortgage</td>\n",
              "      <td>Trouble during payment process</td>\n",
              "      <td>NaN</td>\n",
              "      <td>i have a mortgage payment due by the XXXX othe...</td>\n",
              "      <td>Company has responded to the consumer and the ...</td>\n",
              "      <td>M&amp;T BANK CORPORATION</td>\n",
              "      <td>FL</td>\n",
              "      <td>NaN</td>\n",
              "      <td>Older American</td>\n",
              "      <td>Consent provided</td>\n",
              "      <td>Web</td>\n",
              "      <td>03/05/2019</td>\n",
              "      <td>Closed with explanation</td>\n",
              "      <td>Yes</td>\n",
              "      <td>NaN</td>\n",
              "      <td>3169543</td>\n",
              "      <td>mortgage payment make late payment work anymor...</td>\n",
              "    </tr>\n",
              "    <tr>\n",
              "      <th>2</th>\n",
              "      <td>41667</td>\n",
              "      <td>03/04/2019</td>\n",
              "      <td>Mortgage</td>\n",
              "      <td>Conventional home mortgage</td>\n",
              "      <td>Applying for a mortgage or refinancing an exis...</td>\n",
              "      <td>NaN</td>\n",
              "      <td>My mortgage was initially a fixed rate mortgag...</td>\n",
              "      <td>Company has responded to the consumer and the ...</td>\n",
              "      <td>M&amp;T BANK CORPORATION</td>\n",
              "      <td>SC</td>\n",
              "      <td>NaN</td>\n",
              "      <td>NaN</td>\n",
              "      <td>Consent provided</td>\n",
              "      <td>Web</td>\n",
              "      <td>03/04/2019</td>\n",
              "      <td>Closed with non-monetary relief</td>\n",
              "      <td>Yes</td>\n",
              "      <td>NaN</td>\n",
              "      <td>3168442</td>\n",
              "      <td>mortgage initially fixed rate mortgage switche...</td>\n",
              "    </tr>\n",
              "    <tr>\n",
              "      <th>3</th>\n",
              "      <td>42502</td>\n",
              "      <td>03/03/2019</td>\n",
              "      <td>Mortgage</td>\n",
              "      <td>FHA mortgage</td>\n",
              "      <td>Trouble during payment process</td>\n",
              "      <td>NaN</td>\n",
              "      <td>My mortgage company M &amp; T Bank has refused pay...</td>\n",
              "      <td>Company has responded to the consumer and the ...</td>\n",
              "      <td>M&amp;T BANK CORPORATION</td>\n",
              "      <td>AZ</td>\n",
              "      <td>853XX</td>\n",
              "      <td>NaN</td>\n",
              "      <td>Consent provided</td>\n",
              "      <td>Web</td>\n",
              "      <td>03/03/2019</td>\n",
              "      <td>Closed with explanation</td>\n",
              "      <td>Yes</td>\n",
              "      <td>NaN</td>\n",
              "      <td>3167681</td>\n",
              "      <td>mortgage company bank refused payment ran chec...</td>\n",
              "    </tr>\n",
              "    <tr>\n",
              "      <th>4</th>\n",
              "      <td>43671</td>\n",
              "      <td>03/01/2019</td>\n",
              "      <td>Mortgage</td>\n",
              "      <td>FHA mortgage</td>\n",
              "      <td>Trouble during payment process</td>\n",
              "      <td>NaN</td>\n",
              "      <td>According to my understanding of the Homeowner...</td>\n",
              "      <td>Company has responded to the consumer and the ...</td>\n",
              "      <td>M&amp;T BANK CORPORATION</td>\n",
              "      <td>TN</td>\n",
              "      <td>371XX</td>\n",
              "      <td>NaN</td>\n",
              "      <td>Consent provided</td>\n",
              "      <td>Web</td>\n",
              "      <td>03/01/2019</td>\n",
              "      <td>Closed with explanation</td>\n",
              "      <td>Yes</td>\n",
              "      <td>NaN</td>\n",
              "      <td>3166538</td>\n",
              "      <td>according understanding homeowner protection p...</td>\n",
              "    </tr>\n",
              "  </tbody>\n",
              "</table>\n",
              "</div>"
            ],
            "text/plain": [
              "   index Date received   Product                 Sub-product  \\\n",
              "0  34405    03/13/2019  Mortgage  Conventional home mortgage   \n",
              "1  41058    03/05/2019  Mortgage                FHA mortgage   \n",
              "2  41667    03/04/2019  Mortgage  Conventional home mortgage   \n",
              "3  42502    03/03/2019  Mortgage                FHA mortgage   \n",
              "4  43671    03/01/2019  Mortgage                FHA mortgage   \n",
              "\n",
              "                                               Issue Sub-issue  \\\n",
              "0                     Trouble during payment process       NaN   \n",
              "1                     Trouble during payment process       NaN   \n",
              "2  Applying for a mortgage or refinancing an exis...       NaN   \n",
              "3                     Trouble during payment process       NaN   \n",
              "4                     Trouble during payment process       NaN   \n",
              "\n",
              "                        Consumer complaint narrative  \\\n",
              "0  I purchased a condo on XX/XX/XXXX in XXXX XXXX...   \n",
              "1  i have a mortgage payment due by the XXXX othe...   \n",
              "2  My mortgage was initially a fixed rate mortgag...   \n",
              "3  My mortgage company M & T Bank has refused pay...   \n",
              "4  According to my understanding of the Homeowner...   \n",
              "\n",
              "                             Company public response               Company  \\\n",
              "0  Company has responded to the consumer and the ...  M&T BANK CORPORATION   \n",
              "1  Company has responded to the consumer and the ...  M&T BANK CORPORATION   \n",
              "2  Company has responded to the consumer and the ...  M&T BANK CORPORATION   \n",
              "3  Company has responded to the consumer and the ...  M&T BANK CORPORATION   \n",
              "4  Company has responded to the consumer and the ...  M&T BANK CORPORATION   \n",
              "\n",
              "  State ZIP code            Tags Consumer consent provided? Submitted via  \\\n",
              "0   NaN      NaN             NaN           Consent provided           Web   \n",
              "1    FL      NaN  Older American           Consent provided           Web   \n",
              "2    SC      NaN             NaN           Consent provided           Web   \n",
              "3    AZ    853XX             NaN           Consent provided           Web   \n",
              "4    TN    371XX             NaN           Consent provided           Web   \n",
              "\n",
              "  Date sent to company     Company response to consumer Timely response?  \\\n",
              "0           03/14/2019          Closed with explanation              Yes   \n",
              "1           03/05/2019          Closed with explanation              Yes   \n",
              "2           03/04/2019  Closed with non-monetary relief              Yes   \n",
              "3           03/03/2019          Closed with explanation              Yes   \n",
              "4           03/01/2019          Closed with explanation              Yes   \n",
              "\n",
              "  Consumer disputed?  Complaint ID  \\\n",
              "0                NaN       3179148   \n",
              "1                NaN       3169543   \n",
              "2                NaN       3168442   \n",
              "3                NaN       3167681   \n",
              "4                NaN       3166538   \n",
              "\n",
              "                  Consumer complaint narrative clean  \n",
              "0  purchased condo ny late mortgage continued pay...  \n",
              "1  mortgage payment make late payment work anymor...  \n",
              "2  mortgage initially fixed rate mortgage switche...  \n",
              "3  mortgage company bank refused payment ran chec...  \n",
              "4  according understanding homeowner protection p...  "
            ]
          },
          "metadata": {
            "tags": []
          },
          "execution_count": 5
        }
      ]
    },
    {
      "cell_type": "code",
      "metadata": {
        "id": "rYf8tm1vQqRj",
        "colab_type": "code",
        "colab": {}
      },
      "source": [
        "import datetime as dt\n",
        "df_group = df2[['Product','Complaint ID']].groupby(['Product']).count().reset_index().dropna()\n"
      ],
      "execution_count": 0,
      "outputs": []
    },
    {
      "cell_type": "code",
      "metadata": {
        "id": "yQa3bWtzZb0D",
        "colab_type": "code",
        "outputId": "10fa54bd-801f-45c6-ff2d-8537271adc12",
        "colab": {
          "base_uri": "https://localhost:8080/",
          "height": 931
        }
      },
      "source": [
        "sns.set(style=\"whitegrid\")\n",
        "fig, ax = plt.subplots()\n",
        "# the size of A4 paper\n",
        "fig.set_size_inches(20.7, 8.27)\n",
        "ax = sns.barplot(x=\"Product\", y=\"Complaint ID\",  data=df_group)\n",
        "ax.set(xlabel='Product', ylabel='Count of Complaints')\n",
        "for item in ax.get_xticklabels():\n",
        "    item.set_rotation(90)\n",
        "plt.show()"
      ],
      "execution_count": 0,
      "outputs": [
        {
          "output_type": "display_data",
          "data": {
            "image/png": "[encoded data removed]",
            "text/plain": [
              "<Figure size 1490.4x595.44 with 1 Axes>"
            ]
          },
          "metadata": {
            "tags": []
          }
        }
      ]
    },
    {
      "cell_type": "markdown",
      "metadata": {
        "id": "BPFp5Sm5ZPY3",
        "colab_type": "text"
      },
      "source": [
        "#Select Model and Apply Algorithm"
      ]
    },
    {
      "cell_type": "markdown",
      "metadata": {
        "id": "diLKTjqdkij4",
        "colab_type": "text"
      },
      "source": [
        "##Use Term Frequency - Inverse Document Frequency to Vectorize Complaints and Factorize Resulting Matrix\n"
      ]
    },
    {
      "cell_type": "code",
      "metadata": {
        "id": "qW2dklX4j61J",
        "colab_type": "code",
        "outputId": "6c431ba4-6574-474c-f974-7097e3ca853b",
        "colab": {
          "base_uri": "https://localhost:8080/",
          "height": 85
        }
      },
      "source": [
        "n_samples = 741\n",
        "n_features = 10000\n",
        "n_components = 10\n",
        "\n",
        "def print_top_words(model, feature_names, n_top_words, chunk_size=10):\n",
        "    for topic_idx, topic in enumerate(model.components_):\n",
        "        message = '-'*30 +'\\n'\n",
        "        message += f\"Topic {topic_idx}\\n\"\n",
        "        print(message)\n",
        "        print([feature_names[i] for i in topic.argsort()[:-n_top_words-1:-1]])\n",
        "    print()\n",
        "    \n",
        "# get sample\n",
        "text = df2['Consumer complaint narrative clean'].iloc[np.random.choice(df2.index,n_samples,replace=False)]\n",
        "\n",
        "# get tfidf\n",
        "tfidf_vectorizer = TfidfVectorizer(max_df=0.95, min_df=2, max_features=n_features, ngram_range=(1,3))\n",
        "t0 = time()\n",
        "tfidf = tfidf_vectorizer.fit_transform(text)\n",
        "t1 = time()\n",
        "print(f\"Time for Tfidf Vectorization: {t1-t0}s\")\n",
        "\n",
        "# nmf\n",
        "print(f\"Fitting NMF with {n_samples} samples and {n_components} components\")\n",
        "t0 = time()\n",
        "nmf = NMF(n_components=n_components, alpha=.1, l1_ratio=.5).fit(tfidf)\n",
        "t1 = time()\n",
        "print(f\"Finished fitting.  It took {t1-t0}s\")\n",
        "print()"
      ],
      "execution_count": 0,
      "outputs": [
        {
          "output_type": "stream",
          "text": [
            "Time for Tfidf Vectorization: 0.6574437618255615s\n",
            "Fitting NMF with 741 samples and 10 components\n",
            "Finished fitting.  It took 0.8939521312713623s\n",
            "\n"
          ],
          "name": "stdout"
        }
      ]
    },
    {
      "cell_type": "markdown",
      "metadata": {
        "id": "sDZZSYI8kcag",
        "colab_type": "text"
      },
      "source": [
        "##Extract the topics"
      ]
    },
    {
      "cell_type": "code",
      "metadata": {
        "id": "kiiNGbYrk3Vf",
        "colab_type": "code",
        "outputId": "fe647bf0-1bac-4b03-8175-52ce04d9dc7b",
        "colab": {
          "base_uri": "https://localhost:8080/",
          "height": 734
        }
      },
      "source": [
        "feature_names = tfidf_vectorizer.get_feature_names()\n",
        "print_top_words(nmf, feature_names, 20)"
      ],
      "execution_count": 0,
      "outputs": [
        {
          "output_type": "stream",
          "text": [
            "------------------------------\n",
            "Topic 0\n",
            "\n",
            "['loan', 'bank', 'modification', 'mortgage', 'home', 'foreclosure', 'loan modification', 'letter', 'year', 'payment', 'time', 'property', 'received', 'document', 'sale', 'request', 'house', 'process', 'sent', 'date']\n",
            "------------------------------\n",
            "Topic 1\n",
            "\n",
            "['account', 'bank', 'check', 'money', 'told', 'called', 'branch', 'did', 'said', 'customer', 'letter', 'service', 'day', 'received', 'fund', 'sent', 'asked', 'time', 'deposit', 'went']\n",
            "------------------------------\n",
            "Topic 2\n",
            "\n",
            "['payment', 'late', 'month', 'make', 'late fee', 'late payment', 'make payment', 'mortgage', 'payment payment', 'pay', 'mortgage payment', 'monthly', 'making', 'missed', 'fee', 'told', 'payment bank', 'payment late', 'paid', 'did']\n",
            "------------------------------\n",
            "Topic 3\n",
            "\n",
            "['bonus', 'account', 'direct', 'opened', 'direct deposit', 'code', 'deposit', 'checking', 'checking account', 'promotion', 'promotional', 'offer', 'promo', 'met', 'promo code', 'opening', 'opened account', 'open', 'account opened', 'mailer']\n",
            "------------------------------\n",
            "Topic 4\n",
            "\n",
            "['credit', 'report', 'credit report', 'reporting', 'bureau', 'score', 'reported', 'agency', 'credit bureau', 'inquiry', 'bank', 'credit score', 'late', 'dispute', 'line credit', 'line', 'paid', 'negative', 'credit reporting', 'balance']\n",
            "------------------------------\n",
            "Topic 5\n",
            "\n",
            "['fee', 'overdraft', 'charged', 'account', 'insufficient', 'charge', 'insufficient fund', 'overdraft fee', 'transaction', 'balance', 'fund', 'checking', 'fee charged', 'checking account', 'charging', 'negative', 'charged overdraft', 'waive', 'account charged', 'debit']\n",
            "------------------------------\n",
            "Topic 6\n",
            "\n",
            "['insurance', 'gap', 'gap insurance', 'flood', 'hazard', 'insurance company', 'property', 'notification', 'hazard insurance', 'mtb', 'letter', 'escrow', 'pay', 'company', 'did', 'remaining', 'policy', 'condominium', 'check', 'evidence']\n",
            "------------------------------\n",
            "Topic 7\n",
            "\n",
            "['mortgage', 'mortgage company', 'company', 'bankruptcy', 'mortgage payment', 'called mortgage', 'called mortgage company', 'paid', 'paid mortgage', 'wife', 'reporting', 'company reporting', 'mortgage company reporting', 'niece', 'called', 'escrow', 'borrower', 'payment mortgage', 'paid day', 'reporting paid']\n",
            "------------------------------\n",
            "Topic 8\n",
            "\n",
            "['card', 'debit', 'debit card', 'atm', 'transaction', 'credit card', 'charge', 'stolen', 'fraudulent', 'used', 'od', 'issue', 'fraud', 'claim', 'credit', 'service', 'bank', 'customer', 'purchase', 'customer service']\n",
            "------------------------------\n",
            "Topic 9\n",
            "\n",
            "['tax', 'escrow', 'property tax', 'property', 'state', 'state property tax', 'state property', 'city', 'paid', 'pay', 'real', 'county', 'year', 'refund', 'pay tax', 'did', 'tax insurance', 'contacted lender', 'forbearance plan', 'shortage']\n",
            "\n"
          ],
          "name": "stdout"
        }
      ]
    }
  ]
}