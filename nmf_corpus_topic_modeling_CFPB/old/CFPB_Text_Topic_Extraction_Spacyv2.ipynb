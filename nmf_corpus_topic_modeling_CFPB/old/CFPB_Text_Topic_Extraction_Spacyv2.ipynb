{
  "nbformat": 4,
  "nbformat_minor": 0,
  "metadata": {
    "colab": {
      "name": "CFPB Text Topic Extraction Spacy.ipynb",
      "version": "0.3.2",
      "provenance": [],
      "collapsed_sections": [
        "JtMKErCJ3b_K",
        "exRJrWucHvj-",
        "F6Ti71eM0s-9",
        "a-KKqo6064FI",
        "LUp2nBznJKAK",
        "diLKTjqdkij4",
        "sDZZSYI8kcag",
        "EaGy-xhZGYpe"
      ],
      "toc_visible": true,
      "include_colab_link": true
    },
    "kernelspec": {
      "display_name": "Python 3",
      "language": "python",
      "name": "python3"
    }
  },
  "cells": [
    {
      "cell_type": "markdown",
      "metadata": {
        "id": "view-in-github",
        "colab_type": "text"
      },
      "source": [
        "<a href=\"https://colab.research.google.com/github/mvfolino68/CFPB_complaints_notebook/blob/master/CFPB_Text_Topic_Extraction_Spacyv2.ipynb\" target=\"_parent\"><img src=\"https://colab.research.google.com/assets/colab-badge.svg\" alt=\"Open In Colab\"/></a>"
      ]
    },
    {
      "cell_type": "markdown",
      "metadata": {
        "id": "0PFm02jBIKxS",
        "colab_type": "text"
      },
      "source": [
        "#CFPB Text Analytics"
      ]
    },
    {
      "cell_type": "markdown",
      "metadata": {
        "id": "1vRUcjxDOeyu",
        "colab_type": "text"
      },
      "source": [
        "![alt text](https://www.consumerfinance.gov/static/img/logo_237x50.c7c2ba6c929f.png)\n",
        "\n",
        "---\n",
        "\n",
        "\n",
        "#Our Problem - Identify Common Topics in Customer Complaints to Consumer Financial Protection Bureau\n",
        "\n",
        "\n",
        "---\n",
        "\n",
        "\n",
        "#Our Solution - Use Natural Language Processing to Extract Repeated Topics and Rank Sentiments\n",
        "\n",
        "---\n",
        "\n",
        "\n"
      ]
    },
    {
      "cell_type": "markdown",
      "metadata": {
        "id": "JtMKErCJ3b_K",
        "colab_type": "text"
      },
      "source": [
        "##Import Modules"
      ]
    },
    {
      "cell_type": "code",
      "metadata": {
        "id": "ckB5ZBV6J7l6",
        "colab_type": "code",
        "colab": {},
        "cellView": "form"
      },
      "source": [
        "#@title\n",
        "!pip install pyLDAvis\n",
        "# Usual imports\n",
        "import numpy as np\n",
        "import pandas as pd\n",
        "from tqdm import tqdm\n",
        "import string\n",
        "import matplotlib.pyplot as plt\n",
        "import seaborn as sns\n",
        "from sklearn.decomposition import NMF, LatentDirichletAllocation, TruncatedSVD\n",
        "from sklearn.feature_extraction.text import CountVectorizer, TfidfVectorizer\n",
        "from sklearn.manifold import TSNE\n",
        "import concurrent.futures\n",
        "import time\n",
        "import pyLDAvis.sklearn\n",
        "from pylab import bone, pcolor, colorbar, plot, show, rcParams, savefig\n",
        "import warnings\n",
        "warnings.filterwarnings('ignore')\n",
        "\n",
        "%matplotlib inline\n",
        "import os\n",
        "\n",
        "\n",
        "# Plotly based imports for visualization\n",
        "from plotly import tools\n",
        "import plotly.plotly as py\n",
        "from plotly.offline import init_notebook_mode, iplot\n",
        "init_notebook_mode(connected=True)\n",
        "import plotly.graph_objs as go\n",
        "import plotly.figure_factory as ff\n",
        "\n",
        "# spaCy based imports\n",
        "import spacy\n",
        "from spacy.lang.en.stop_words import STOP_WORDS\n",
        "from spacy.lang.en import English\n",
        "!python -m spacy download en_core_web_lg"
      ],
      "execution_count": 0,
      "outputs": []
    },
    {
      "cell_type": "markdown",
      "metadata": {
        "id": "exRJrWucHvj-",
        "colab_type": "text"
      },
      "source": [
        "##Import the Data"
      ]
    },
    {
      "cell_type": "code",
      "metadata": {
        "id": "1Y3ek1aTJ7l-",
        "colab_type": "code",
        "colab": {},
        "cellView": "form"
      },
      "source": [
        "#@title\n",
        "df = pd.read_csv('https://data.consumerfinance.gov/api/views/s6ew-h6mp/rows.csv?accessType=DOWNLOAD', encoding='utf-8')\n",
        "df.head()"
      ],
      "execution_count": 0,
      "outputs": []
    },
    {
      "cell_type": "markdown",
      "metadata": {
        "id": "ic2X4CwXJ8r0",
        "colab_type": "text"
      },
      "source": [
        "##Pre Process and Explore the Data"
      ]
    },
    {
      "cell_type": "markdown",
      "metadata": {
        "id": "F6Ti71eM0s-9",
        "colab_type": "text"
      },
      "source": [
        "###Function creation for preprocessing"
      ]
    },
    {
      "cell_type": "code",
      "metadata": {
        "id": "mv_2O1gs0vQl",
        "colab_type": "code",
        "colab": {},
        "cellView": "form"
      },
      "source": [
        "#@title\n",
        "# Creating a spaCy object\n",
        "nlp = spacy.load('en_core_web_lg')\n",
        "#create word lemmetizer object, stopwords\n",
        "punctuations = string.punctuation\n",
        "stopwords = list(STOP_WORDS)\n",
        "\n",
        "# Parser for reviews\n",
        "parser = English()\n",
        "def spacy_tokenizer(sentence):\n",
        "\n",
        "    mytokens = [char for char in sentence if char not in ['X']]\n",
        "    \n",
        "\n",
        "    # Join the characters again to form the string.\n",
        "    mytokens = ''.join(mytokens)\n",
        "    mytokens = parser(mytokens)\n",
        "    mytokens = [ word.lemma_.lower().strip() if word.lemma_ != \"-PRON-\" else word.lower_ for word in mytokens ]\n",
        "    mytokens = [ word for word in mytokens if word not in stopwords and word not in punctuations and word.isalpha()]\n",
        "    mytokens = \" \".join([i for i in mytokens]).replace(' m t ', ' ')  \n",
        "    return mytokens"
      ],
      "execution_count": 0,
      "outputs": []
    },
    {
      "cell_type": "markdown",
      "metadata": {
        "id": "a-KKqo6064FI",
        "colab_type": "text"
      },
      "source": [
        "###Pre Processing data"
      ]
    },
    {
      "cell_type": "code",
      "metadata": {
        "id": "D_ab3xXm44sa",
        "colab_type": "code",
        "colab": {},
        "cellView": "form"
      },
      "source": [
        "#@title\n",
        "tqdm.pandas()\n",
        "bank_name = 'M&T BANK CORPORATION'\n",
        "df = df[pd.notnull(df['Consumer complaint narrative'].str.strip())]\n",
        "df =df[df['Company'].str.contains(bank_name)]\n",
        "#clean cols\n",
        "df['Consumer complaint narrative clean'] = df['Consumer complaint narrative'].apply(spacy_tokenizer)"
      ],
      "execution_count": 0,
      "outputs": []
    },
    {
      "cell_type": "code",
      "metadata": {
        "id": "9vVbj6rmpvr6",
        "colab_type": "code",
        "colab": {},
        "cellView": "form"
      },
      "source": [
        "#@title\n",
        "df.reset_index(inplace=True)\n",
        "df.drop(columns=['index'], inplace = True)"
      ],
      "execution_count": 0,
      "outputs": []
    },
    {
      "cell_type": "markdown",
      "metadata": {
        "id": "LUp2nBznJKAK",
        "colab_type": "text"
      },
      "source": [
        "###Check the cleaned text"
      ]
    },
    {
      "cell_type": "code",
      "metadata": {
        "id": "jloKzFN6JOTh",
        "colab_type": "code",
        "colab": {},
        "cellView": "form"
      },
      "source": [
        "#@title\n",
        "df.head()"
      ],
      "execution_count": 0,
      "outputs": []
    },
    {
      "cell_type": "code",
      "metadata": {
        "id": "rYf8tm1vQqRj",
        "colab_type": "code",
        "outputId": "6b658288-1ad2-45e8-e244-feea74ee8ead",
        "colab": {
          "base_uri": "https://localhost:8080/",
          "height": 153
        }
      },
      "source": [
        "print(df.shape)\n",
        "print(df.columns)"
      ],
      "execution_count": 0,
      "outputs": [
        {
          "output_type": "stream",
          "text": [
            "(741, 19)\n",
            "Index(['Date received', 'Product', 'Sub-product', 'Issue', 'Sub-issue',\n",
            "       'Consumer complaint narrative', 'Company public response', 'Company',\n",
            "       'State', 'ZIP code', 'Tags', 'Consumer consent provided?',\n",
            "       'Submitted via', 'Date sent to company', 'Company response to consumer',\n",
            "       'Timely response?', 'Consumer disputed?', 'Complaint ID',\n",
            "       'Consumer complaint narrative clean'],\n",
            "      dtype='object')\n"
          ],
          "name": "stdout"
        }
      ]
    },
    {
      "cell_type": "markdown",
      "metadata": {
        "id": "tc4ZTJxFu5JB",
        "colab_type": "text"
      },
      "source": [
        "#Explore the Summary Stats by Year and Feature"
      ]
    },
    {
      "cell_type": "code",
      "metadata": {
        "id": "QbO2osYIms0o",
        "colab_type": "code",
        "cellView": "form",
        "outputId": "f48de707-91d6-4121-bee3-590745ce3f01",
        "colab": {
          "base_uri": "https://localhost:8080/",
          "height": 533
        }
      },
      "source": [
        "#@title Adjust Year and Feature to Measure { run: \"auto\" }\n",
        "sns.set(rc={'figure.figsize':(20,8.27)})\n",
        "Year = 2017 #@param {type:\"slider\", min:2015, max:2019, step:1}\n",
        "Select_Variable = \"State\" #@param [\"Product\", \"Sub-product\", \"Issue\", \"State\", \"Company response to consumer\", \"Timely response?\"]\n",
        "\n",
        "g = sns.countplot(x = Select_Variable, data = df[df['Date received'].str.contains(str(Year))])\n",
        "for item in g.get_xticklabels():\n",
        "    item.set_rotation(80)"
      ],
      "execution_count": 0,
      "outputs": [
        {
          "output_type": "display_data",
          "data": {
            "image/png": "[encoded data removed]",
            "text/plain": [
              "<Figure size 1440x595.44 with 1 Axes>"
            ]
          },
          "metadata": {
            "tags": []
          }
        }
      ]
    },
    {
      "cell_type": "markdown",
      "metadata": {
        "id": "bEPdObrGESd5",
        "colab_type": "text"
      },
      "source": [
        "# Analysis"
      ]
    },
    {
      "cell_type": "markdown",
      "metadata": {
        "id": "hQ_g4zuhyPPS",
        "colab_type": "text"
      },
      "source": [
        "###define function to view topics"
      ]
    },
    {
      "cell_type": "code",
      "metadata": {
        "id": "4MgDuleItzYw",
        "colab_type": "code",
        "colab": {},
        "cellView": "form"
      },
      "source": [
        "#@title\n",
        "# Functions for printing keywords for each topic\n",
        "def selected_topics(model, vectorizer, top_n=10):\n",
        "    for idx, topic in enumerate(model.components_):\n",
        "        print(\"Topic %d:\" % (idx))\n",
        "        print([(vectorizer.get_feature_names()[i])\n",
        "                        for i in topic.argsort()[:-top_n - 1:-1]]) "
      ],
      "execution_count": 0,
      "outputs": []
    },
    {
      "cell_type": "markdown",
      "metadata": {
        "id": "-Tqzc8-ev0Nc",
        "colab_type": "text"
      },
      "source": [
        "#Review results of 3 different approaches to topic extraction"
      ]
    },
    {
      "cell_type": "code",
      "metadata": {
        "id": "dp_HnI_Bt2yF",
        "colab_type": "code",
        "outputId": "dda33d08-4939-48de-ea96-1164745696e7",
        "cellView": "form",
        "colab": {
          "base_uri": "https://localhost:8080/",
          "height": 442
        }
      },
      "source": [
        "#@title View Top 10 phrases for 10 topics{ run: \"auto\" }\n",
        "\n",
        "Year = 2017 #@param {type:\"slider\", min:2015, max:2019, step:1}\n",
        "Select_Product = \"Mortgage\" #@param ['Mortgage', 'Checking or savings account','Money transfer, virtual currency, or money service','Debt collection','Credit reporting, credit repair services, or other personal consumer reports','Credit card or prepaid card', 'Vehicle loan or lease','Payday loan, title loan, or personal loan', 'Consumer Loan','Bank account or service', 'Credit card', 'Credit reporting']\n",
        "Topic_Model_Select = nmf #@param [\"lda\", \"nmf\", \"lsi\"] {type:\"raw\"}\n",
        "try:\n",
        "    #define function for vectorizer and topic models\n",
        "    # Creating a vectorizer\n",
        "    vectorizer = CountVectorizer(min_df=5, max_df=0.9, stop_words='english', lowercase=True#, token_pattern='[a-zA-Z\\-][a-zA-Z\\-]{2,}'\n",
        "                               , ngram_range=(1,3))\n",
        "    tfidf_vectorizer = TfidfVectorizer(min_df=5, max_df=0.9, stop_words='english', lowercase=True#, token_pattern='[a-zA-Z\\-][a-zA-Z\\-]{2,}'\n",
        "                                     , ngram_range=(1,3))\n",
        "    #vectorize\n",
        "    data_vectorized_tfidf = tfidf_vectorizer.fit_transform(df[(df['Date received'].str.contains(str(Year))) & (df['Product']==Select_Product)]['Consumer complaint narrative clean'])\n",
        "    data_vectorized = vectorizer.fit_transform(df[(df['Date received'].str.contains(str(Year))) & (df['Product']==Select_Product)]['Consumer complaint narrative clean'])\n",
        "    #define our 3 topic models\n",
        "    NUM_TOPICS = 10\n",
        "    # Latent Dirichlet Allocation Model\n",
        "    lda = LatentDirichletAllocation(n_components=NUM_TOPICS, max_iter=10, learning_method='online',verbose=False)\n",
        "    data_lda = lda.fit_transform(data_vectorized_tfidf)\n",
        "\n",
        "    # Non-Negative Matrix Factorization Model\n",
        "    nmf = NMF(n_components=NUM_TOPICS, alpha=.1, l1_ratio=.5)\n",
        "    data_nmf = nmf.fit_transform(data_vectorized_tfidf) \n",
        "\n",
        "    # Latent Semantic Indexing Model using Truncated SVD\n",
        "    lsi = TruncatedSVD(n_components=NUM_TOPICS)\n",
        "    data_lsi = lsi.fit_transform(data_vectorized_tfidf)\n",
        "    \n",
        "    # Keywords for topics clustered by Latent Dirichlet Allocation\n",
        "    print(f\"Model:{Topic_Model_Select} \")\n",
        "    print('_'*100)\n",
        "    selected_topics(Topic_Model_Select, tfidf_vectorizer)\n",
        "    print('_'*100)\n",
        "except:\n",
        "    print(\"Oops!  Not Enough Data, Select a Different Year or Product\")\n",
        "\n",
        "\n",
        "\n"
      ],
      "execution_count": 0,
      "outputs": [
        {
          "output_type": "stream",
          "text": [
            "Model:NMF(alpha=0.1, beta_loss='frobenius', init=None, l1_ratio=0.5, max_iter=200,\n",
            "  n_components=10, random_state=None, shuffle=False, solver='cd',\n",
            "  tol=0.0001, verbose=0) \n",
            "____________________________________________________________________________________________________\n",
            "Topic 0:\n",
            "['bank', 'loan', 'modification', 'court', 'loan modification', 'case', 'original', 'date', 'transfer', 'law']\n",
            "Topic 1:\n",
            "['payment', 'bank', 'late', 'mortgage', 'month', 'tell', 'late payment', 'check', 'want', 'mortgage payment']\n",
            "Topic 2:\n",
            "['income', 'deny', 'apply', 'base', 'modification', 'mortgage', 'fha', 'fall', 'guideline', 'tell']\n",
            "Topic 3:\n",
            "['bank', 'close', 'escrow', 'letter', 'send', 'fax', 'taxis', 'good', 'loan', 'address']\n",
            "Topic 4:\n",
            "['property', 'foreclosure', 'pay', 'sale', 'foreclosure bank', 'bank', 'sell', 'request', 'balance', 'foreclose']\n",
            "Topic 5:\n",
            "['request', 'qualify', 'write', 'write request', 'lender', 'information', 'sale date', 'review', 'date', 'submit']\n",
            "Topic 6:\n",
            "['credit', 'account', 'payment', 'bureau', 'error', 'balance', 'credit bureau', 'report', 'record', 'principal']\n",
            "Topic 7:\n",
            "['home', 'house', 'write', 'time', 'help', 'year', 'feel', 'note', 'try', 'bankruptcy']\n",
            "Topic 8:\n",
            "['error', 'bank', 'notice', 'attachment', 'reply', 'post', 'resolution', 'transaction', 'send', 'fail']\n",
            "Topic 9:\n",
            "['mortgage', 'mortgage company', 'company', 'pay mortgage', 'result', 'report', 'help', 'pay', 'time', 'state']\n",
            "____________________________________________________________________________________________________\n"
          ],
          "name": "stdout"
        }
      ]
    },
    {
      "cell_type": "markdown",
      "metadata": {
        "id": "-XYsNWRaEhyp",
        "colab_type": "text"
      },
      "source": [
        "#Hide"
      ]
    },
    {
      "cell_type": "markdown",
      "metadata": {
        "id": "P0j5gtR1_cuQ",
        "colab_type": "text"
      },
      "source": [
        "##create function and apply to data"
      ]
    },
    {
      "cell_type": "code",
      "metadata": {
        "id": "GCj8cEKB3XqE",
        "colab_type": "code",
        "colab": {},
        "cellView": "form"
      },
      "source": [
        "#@title\n",
        "from textblob import TextBlob \n",
        "\n",
        "#define sentiment function using textblob\n",
        "\n",
        "def get_sentiment(text): \n",
        "    ''' \n",
        "    Utility function to classify sentiment of passed text \n",
        "    using textblob's sentiment method \n",
        "    '''\n",
        "    # create TextBlob object of passed tweet text \n",
        "    analysis = TextBlob(text) \n",
        "    return analysis.sentiment.polarity \n",
        "    # set sentiment \n",
        "#     if analysis.sentiment.polarity > 0: \n",
        "#         return 'positive'\n",
        "#     elif analysis.sentiment.polarity == 0: \n",
        "#         return 'neutral'\n",
        "#     else: \n",
        "#         return 'negative'\n",
        "\n",
        "#apply sentinment\n",
        "df['sentiment'] = df['Consumer complaint narrative clean'].apply(get_sentiment)\n",
        "\n",
        "\n",
        "#df.to_csv('CFPB_output.csv')\n",
        "\n",
        "df.head(500)"
      ],
      "execution_count": 0,
      "outputs": []
    },
    {
      "cell_type": "markdown",
      "metadata": {
        "id": "0MWOMOTT_CjK",
        "colab_type": "text"
      },
      "source": [
        "#Sentiment Distribution, -1 is lowest negative, 0 is neutral, 1 is highest positive"
      ]
    },
    {
      "cell_type": "code",
      "metadata": {
        "id": "FXdnLBVG9ojO",
        "colab_type": "code",
        "outputId": "fdfae7f7-2934-4e79-b6ac-298754460b99",
        "cellView": "form",
        "colab": {
          "base_uri": "https://localhost:8080/",
          "height": 541
        }
      },
      "source": [
        "#@title View Sentiment Score by Product and Year { run: \"auto\" }\n",
        "sns.set(rc={'figure.figsize':(20,8.27)})\n",
        "Year = 2019 #@param {type:\"slider\", min:2015, max:2019, step:1}\n",
        "Select_Product = \"Checking or savings account\" #@param ['Mortgage', 'Checking or savings account','Money transfer, virtual currency, or money service','Debt collection','Credit reporting, credit repair services, or other personal consumer reports','Credit card or prepaid card', 'Vehicle loan or lease','Payday loan, title loan, or personal loan', 'Consumer Loan','Bank account or service', 'Credit card', 'Credit reporting']\n",
        "\n",
        "g = sns.distplot(df[(df['Date received'].str.contains(str(Year))) & (df['Product']==Select_Product)].sentiment)\n",
        "for item in g.get_xticklabels():\n",
        "    item.set_rotation(80)"
      ],
      "execution_count": 0,
      "outputs": [
        {
          "output_type": "display_data",
          "data": {
            "image/png": "[encoded data removed]",
            "text/plain": [
              "<Figure size 1440x595.44 with 1 Axes>"
            ]
          },
          "metadata": {
            "tags": []
          }
        }
      ]
    }
  ]
}