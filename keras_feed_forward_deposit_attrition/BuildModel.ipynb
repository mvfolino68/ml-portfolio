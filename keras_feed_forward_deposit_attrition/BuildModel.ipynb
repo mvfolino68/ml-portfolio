{
 "cells": [
  {
   "cell_type": "code",
   "execution_count": 17,
   "metadata": {},
   "outputs": [],
   "source": [
    "# load base packages\n",
    "import pandas as pd\n",
    "import pyodbc\n",
    "import re\n",
    "import numpy as np\n",
    "# Set random seed\n",
    "np.random.seed(0)\n",
    "\n",
    "# load utils\n",
    "from sklearn import preprocessing\n",
    "from sklearn.model_selection import train_test_split, GridSearchCV\n",
    "from sklearn.utils import class_weight\n",
    "\n",
    "# Load Metrics\n",
    "from sklearn.metrics import balanced_accuracy_score, classification_report, confusion_matrix, precision_score, recall_score, roc_auc_score, roc_curve, accuracy_score\n",
    "\n",
    "# Load model libraries\n",
    "from tensorflow.keras.models import Sequential\n",
    "from tensorflow.keras.layers import Dense, Activation, Dropout\n",
    "from sklearn.linear_model import LogisticRegression\n",
    "from sklearn.ensemble import RandomForestClassifier\n",
    "# import BatchNormalization\n",
    "from tensorflow.keras.layers import BatchNormalization\n",
    "\n",
    "#import optimizer\n",
    "from tensorflow.keras import optimizers"
   ]
  },
  {
   "cell_type": "markdown",
   "metadata": {},
   "source": [
    "### Import Pickled Data"
   ]
  },
  {
   "cell_type": "code",
   "execution_count": null,
   "metadata": {},
   "outputs": [],
   "source": [
    "dfimpalaProd = pd.read_pickle(r'data/deposit_data_consensed.pkl')\n",
    "dfimpalaProd.dropna(axis = 0, how ='any', inplace=True)\n",
    "dfimpalaProd.head()"
   ]
  },
  {
   "cell_type": "markdown",
   "metadata": {},
   "source": [
    "### Check Percent of Closed Accounts"
   ]
  },
  {
   "cell_type": "code",
   "execution_count": 5,
   "metadata": {},
   "outputs": [
    {
     "data": {
      "text/plain": [
       "0.005355429158039286"
      ]
     },
     "execution_count": 5,
     "metadata": {},
     "output_type": "execute_result"
    }
   ],
   "source": [
    "dfimpalaProd['closed_within_next_month'].mean()"
   ]
  },
  {
   "cell_type": "code",
   "execution_count": 6,
   "metadata": {},
   "outputs": [
    {
     "name": "stderr",
     "output_type": "stream",
     "text": [
      "C:\\Program Files\\Anaconda3\\envs\\_tf\\lib\\site-packages\\sklearn\\preprocessing\\data.py:625: DataConversionWarning: Data with input dtype float32, int32, int64, float64 were all converted to float64 by StandardScaler.\n",
      "  return self.partial_fit(X, y)\n",
      "C:\\Program Files\\Anaconda3\\envs\\_tf\\lib\\site-packages\\ipykernel_launcher.py:9: DataConversionWarning: Data with input dtype float32, int32, int64, float64 were all converted to float64 by StandardScaler.\n",
      "  if __name__ == '__main__':\n"
     ]
    }
   ],
   "source": [
    "y = dfimpalaProd['closed_within_next_month']\n",
    "X = dfimpalaProd.drop(['closed_within_next_month','party_key','account_key'], axis=1)\n",
    "ids = dfimpalaProd[['closed_within_next_month','party_key','account_key']]\n",
    "\n",
    "scaler = preprocessing.StandardScaler()\n",
    "\n",
    "scaler = scaler.fit(X)\n",
    "\n",
    "X = scaler.transform(X)\n",
    "#consider removing difference features\n",
    "#consider log transform of all numerics\n",
    "#Visualize features and consider removing variables with equal distribution by label\n",
    "\n",
    "X_train, X_test, y_train, y_test = train_test_split(X, y, stratify=y, test_size=.3, random_state=42)"
   ]
  },
  {
   "cell_type": "code",
   "execution_count": 7,
   "metadata": {},
   "outputs": [
    {
     "data": {
      "text/plain": [
       "{0: 1.0, 1: 185.73242483235995}"
      ]
     },
     "execution_count": 7,
     "metadata": {},
     "output_type": "execute_result"
    }
   ],
   "source": [
    "from collections import Counter\n",
    "# set class weights\n",
    "def get_class_weights(y):\n",
    "    counter = Counter(y)\n",
    "    majority = max(counter.values())\n",
    "    return  {cls: float(majority/count) for cls, count in counter.items()}\n",
    "\n",
    "class_weight_dict = get_class_weights(y_train)\n",
    "class_weight_dict"
   ]
  },
  {
   "cell_type": "code",
   "execution_count": 19,
   "metadata": {},
   "outputs": [
    {
     "name": "stdout",
     "output_type": "stream",
     "text": [
      "Train on 1381222 samples, validate on 345306 samples\n",
      "Epoch 1/2\n",
      "1381222/1381222 [==============================] - 63s 46us/step - loss: 0.4561 - acc: 0.8918 - val_loss: 0.4547 - val_acc: 0.9229\n",
      "Epoch 2/2\n",
      "1381222/1381222 [==============================] - 63s 46us/step - loss: 0.4302 - acc: 0.9027 - val_loss: 0.4396 - val_acc: 0.9318\n"
     ]
    },
    {
     "data": {
      "text/plain": [
       "<tensorflow.python.keras.callbacks.History at 0x172d150ef28>"
      ]
     },
     "execution_count": 19,
     "metadata": {},
     "output_type": "execute_result"
    }
   ],
   "source": [
    "# Set the number of features we want\n",
    "number_of_features = X_train.shape[1]\n",
    "\n",
    "\n",
    "model = Sequential()\n",
    "# act = keras.layers.PReLU(alpha_initializer='zeros')\n",
    "model.add(Dense(64, input_dim=number_of_features, activation='relu'))\n",
    "#model.add(Dropout(0.025))\n",
    "model.add(BatchNormalization())\n",
    "model.add(Dense(64, activation='relu'))\n",
    "#model.add(Dropout(0.025))\n",
    "model.add(BatchNormalization())\n",
    "model.add(Dense(64, activation='relu'))\n",
    "#model.add(Dropout(0.025))\n",
    "model.add(BatchNormalization())\n",
    "model.add(Dense(64, activation='relu'))\n",
    "#model.add(Dropout(0.025))\n",
    "model.add(BatchNormalization())\n",
    "model.add(Dense(64, activation='relu'))\n",
    "#model.add(Dropout(0.025))\n",
    "model.add(BatchNormalization())\n",
    "model.add(Dense(1, activation='sigmoid'))\n",
    "#trim network depth & batch normalization (layer normalization) standardizing inputs and outputs between learnable layers & size of hidden layers & remove dropout\n",
    "\n",
    "# setting up the optimization of our weights \n",
    "Nadam = optimizers.Nadam(lr=0.002, beta_1=0.9, beta_2=0.999, epsilon=None, schedule_decay=0.004)\n",
    "model.compile(loss='binary_crossentropy',\n",
    "              optimizer=Nadam, #create an optimizer tf.keras.Optimizers\n",
    "              metrics=['accuracy'])\n",
    "\n",
    "# history = model.fit(X_train, y_train,\n",
    "#           epochs=1,\n",
    "#           batch_size=128, \n",
    "#            class_weight=class_weight_dict\n",
    "        \n",
    "#           # learning rate decay\n",
    "#          )\n",
    "\n",
    "\n",
    "\n",
    "# running the fitting\n",
    "model.fit(X_train, y_train, epochs=6, validation_split=0.2, verbose = 1,\n",
    "         batch_size=128, \n",
    "           class_weight=class_weight_dict)\n",
    "\n",
    "#create validation set to tune/ don't use test until end\n",
    "# score = model.evaluate(X_test, y_test, batch_size=128)"
   ]
  },
  {
   "cell_type": "code",
   "execution_count": 20,
   "metadata": {},
   "outputs": [],
   "source": [
    "y_pred = model.predict_classes(X_test)"
   ]
  },
  {
   "cell_type": "code",
   "execution_count": 21,
   "metadata": {},
   "outputs": [
    {
     "name": "stdout",
     "output_type": "stream",
     "text": [
      "Precision Score\n",
      "0.04347307531755024\n",
      "____________________________________________________________________________________________________\n",
      "Recall Score\n",
      "0.5518546555639667\n",
      "____________________________________________________________________________________________________\n",
      "Balanced Accuracy Score\n",
      "0.7432361332082325\n",
      "____________________________________________________________________________________________________\n",
      "Confusion Matrix\n",
      "          pred:no  pred:yes\n",
      "true:no    687858     48120\n",
      "true:yes     1776      2187\n"
     ]
    }
   ],
   "source": [
    "print('Precision Score')\n",
    "print(precision_score(y_test, y_pred))\n",
    "\n",
    "print('_'*100)\n",
    "print('Recall Score')\n",
    "print(recall_score(y_test, y_pred))\n",
    "\n",
    "print('_'*100)\n",
    "print('Balanced Accuracy Score')\n",
    "print(balanced_accuracy_score(y_test, y_pred))\n",
    "\n",
    "print('_'*100)\n",
    "print('Confusion Matrix')\n",
    "print(pd.DataFrame(confusion_matrix(y_test, y_pred), index=['true:no', 'true:yes'], columns=['pred:no', 'pred:yes']))"
   ]
  },
  {
   "cell_type": "code",
   "execution_count": null,
   "metadata": {},
   "outputs": [],
   "source": []
  }
 ],
 "metadata": {
  "kernelspec": {
   "display_name": "Python 3",
   "language": "python",
   "name": "python3"
  },
  "language_info": {
   "codemirror_mode": {
    "name": "ipython",
    "version": 3
   },
   "file_extension": ".py",
   "mimetype": "text/x-python",
   "name": "python",
   "nbconvert_exporter": "python",
   "pygments_lexer": "ipython3",
   "version": "3.6.7"
  }
 },
 "nbformat": 4,
 "nbformat_minor": 2
}
