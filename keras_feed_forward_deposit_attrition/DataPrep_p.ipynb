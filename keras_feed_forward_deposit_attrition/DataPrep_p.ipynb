{
 "cells": [
  {
   "cell_type": "code",
   "execution_count": null,
   "metadata": {},
   "outputs": [],
   "source": [
    "import pandas as pd\n",
    "import pyodbc\n",
    "import re"
   ]
  },
  {
   "cell_type": "code",
   "execution_count": null,
   "metadata": {},
   "outputs": [],
   "source": [
    "trans_type_list = { \n",
    "    'deposits' : [\n",
    "        'DIRECT DEPOSIT',\n",
    "        'DEPOSIT', \n",
    "        'M&T ATM CHECK DEPOSIT',\n",
    "        'M&T ATM CASH DEPOSIT',\n",
    "        'MOBILE DEPOSIT',\n",
    "        'VISA PURCHASE CREDIT'\n",
    "    ],\n",
    "\n",
    "    'purchases_payments' : [\n",
    "        'CHECK PAID',\n",
    "        'VISA PURCHASE',\n",
    "        'CARD PURCHASE',\n",
    "        'VISA PURCHASE (RECURRING)',\n",
    "        'VISA PIN PURCHASE',\n",
    "        'PURCHASE WITH CASH BACK',\n",
    "        'VISA PIN PURCHASE WITH CASH BACK',\n",
    "        'WEB BILL PAYMENT FROM CHECKING',\n",
    "        'WEB PAYMENT TO CREDIT CARD',\n",
    "        'WEB PAYMENT',\n",
    "        'ACH MISCELLANEOUS DEBIT',\n",
    "        'AUTO PAYMENT TO M&T BANK'    \n",
    "    ],\n",
    "\n",
    "    'withdrawals' : [\n",
    "        'PREAUTHORIZED WITHDRAWAL',\n",
    "        'QUICK BANK WITHDRAWAL',\n",
    "        'ATM WITHDRAWAL',\n",
    "        'COUNTER WITHDRAWAL'  \n",
    "    ],\n",
    "\n",
    "    'transfers' : [\n",
    "        'WEB TRANSFER TO CHECKING',\n",
    "        'WEB TRANSFER FROM CHECKING',\n",
    "        'VISA MONEY TRANSFER',\n",
    "        'TELLER TRANSFER CREDIT',\n",
    "        'INCOMING FEDWIRE FUNDS TRANSFER        &',\n",
    "        'TELLER TRANSFER DEBIT',\n",
    "        'QUICKBANK TXF FROM SAV TO DDA',\n",
    "        r'ZELLE P2P PAYMENT SENT                 \\\\',\n",
    "        r'ZELLE P2P PAYMENT RECEIVED             \\\\',\n",
    "        'CREDIT LINE TRANSFER-M&T BANK'    \n",
    "    ],\n",
    "\n",
    "    'fees' : [\n",
    "        'NON-M&T ATM FEE',\n",
    "        'INTERNATIONAL TRANSACTION FEE',\n",
    "        'WAIVE ADD-ON FEE: NON M&T ATM FEE WAIVER',\n",
    "        'INSUFFICIENT FUNDS FEE',\n",
    "        'M&T ADD-ON FEE: NON M&T ATM FEE REFUND',\n",
    "        'WAIVE ADD-ON FEE: NON M&T ATM FEE REFUND',\n",
    "        'M&T ADD-ON FEE: CHKS/SAFE DEPOSIT BOX',\n",
    "        'WAIVE ADD-ON FEE: CHKS/SAFE DEPOSIT BOX',\n",
    "        'M&T ADD-ON FEE: NON M&T ATM FEE WAIVER',\n",
    "        'EFT SERVICE CHARGE',\n",
    "        'NON-M&T ATM FEE REV',\n",
    "        'M&T ADD-ON FEE: OVERDRAFT TRANSFERS',\n",
    "        'WAIVE ADD-ON FEE: OVERDRAFT TRANSFERS',\n",
    "        'BUNDLE FEE WAIVER',\n",
    "        'OVERDRAFT BALANCE EXCESS FEE',\n",
    "        'SERVICE CHARGE',\n",
    "        'ATM SURCHARGE REBATE',\n",
    "        'CHECK VENDOR CHARGE',\n",
    "        'REVERSE MONTHLY SERVICE CHARGE',\n",
    "        'REVERSE INSUFFICIENT FUNDS FEE',\n",
    "        'MONTHLY SERVICE CHARGE',\n",
    "        'SERVICE CHG WAIVE- RELATIONSHIP PRICING'    \n",
    "    ],\n",
    "\n",
    "    'misc' : [\n",
    "        'ACH CONVERTED CHECK',\n",
    "        'OVERDRAFT TRANSFER FROM CREDIT CARD',\n",
    "        'FEDERAL WITHHOLDING ON INTEREST PAYMENT',\n",
    "        'OD PROTECTION FUND TRANSFER',\n",
    "        'REVERSE CARD PURCHASE',\n",
    "        'VISA PIN CREDIT VOUCHER/MERCHANDISE RET',\n",
    "        'DEBIT CARD DISPUTE PROVISIONAL CREDIT',\n",
    "        'NSF ITEM PRESENTED NOTATION',\n",
    "        'CLOSEOUT',\n",
    "        'INTEREST PAYMENT'  \n",
    "    ]\n",
    "}\n",
    "\n",
    "load_order = [1,2]\n",
    "\n",
    "metrics = ['transaction_amt', 'trans_post_ledger_bal_amt']\n",
    "\n",
    "#string and lists to build\n",
    "loop_string = ''\n",
    "int_cols = []\n",
    "float_cols = []\n",
    "\n",
    "#create transaction counts\n",
    "for j in load_order:\n",
    "    loop_string += \",sum(case when cal1.load_order = {0} then 1 else 0 end) as trans_count_total_{0}\".format(j)\n",
    "    int_cols.append(\"trans_count_total_{0}\".format(j))\n",
    "    while j+1 < 3:\n",
    "        loop_string += \",sum(case when cal1.load_order = {0} then 1 else 0 end) - sum(case when cal1.load_order = {1} then 1 else 0 end) as trans_count_total_dif\".format(j,j+1)\n",
    "        int_cols.append(\"trans_count_total_dif\".format(j,j+1))\n",
    "        break\n",
    "    for i in trans_type_list:\n",
    "        loop_string += \",sum(case when dt.transaction_desc in ({0}) and cal1.load_order = {1} then 1 else 0 end) as trans_count_{2}_{1}\".format(','.join([\"'\"+l+\"'\" for l in trans_type_list[i]]) ,j,re.sub(r'\\W+', '_', i).strip())\n",
    "        int_cols.append(\"trans_count_{1}_{0}\".format(j,re.sub(r'\\W+', '_', i).strip()))\n",
    "        while j+1 < 3:\n",
    "            loop_string += \",sum(case when dt.transaction_desc in ({0}) and cal1.load_order = {1} then 1 else 0 end) - sum(case when dt.transaction_desc in ({0}) and cal1.load_order = {3} then 1 else 0 end) as trans_count_{2}_dif\".format(','.join([\"'\"+l+\"'\" for l in trans_type_list[i]])  ,j,re.sub(r'\\W+', '_', i).strip(),j+1)\n",
    "            int_cols.append(\"trans_count_{0}_dif\".format(re.sub(r'\\W+', '_', i).strip()))\n",
    "            break\n",
    "\n",
    "#create averaging metrics\n",
    "for j in load_order:\n",
    "    for k in metrics:        \n",
    "        loop_string += \",avg(case when cal1.load_order = {0} then dt.{1} else 0 end) as {1}_{0}\".format(j,k)\n",
    "        float_cols.append(\"{1}_{0}\".format(j,k))\n",
    "        while j+1 < 3:\n",
    "            loop_string += \",avg(case when cal1.load_order = {0} then dt.{2} else 0 end) - sum(case when cal1.load_order = {1} then dt.{2} else 0 end) as {2}_dif\".format(j,j+1,k)\n",
    "            float_cols.append(\"{0}_dif\".format(k))\n",
    "            break\n",
    "        for i in trans_type_list:\n",
    "            loop_string += \",avg(case when dt.transaction_desc in ({1}) and cal1.load_order = {2} then dt.{0}  else 0 end) as {0}_{3}_{2}\".format(k,','.join([\"'\"+l+\"'\" for l in trans_type_list[i]]) ,j,re.sub(r'\\W+', '_', i).strip())\n",
    "            float_cols.append(\"{0}_{2}_{1}\".format(k,j,re.sub(r'\\W+', '_', i).strip()))\n",
    "            while j+1 < 3:\n",
    "                loop_string += \",avg(case when dt.transaction_desc in ({1}) and cal1.load_order = {2} then dt.{0}  else 0 end) - avg(case when dt.transaction_desc in ({1}) and cal1.load_order = {4} then dt.{0}  else 0 end) as {0}_{3}_dif\".format(k,','.join([\"'\"+l+\"'\" for l in trans_type_list[i]]) ,j,re.sub(r'\\W+', '_', i).strip(),j+1)\n",
    "                float_cols.append(\"{0}_{1}_dif\".format(k,re.sub(r'\\W+', '_', i).strip()))\n",
    "                break"
   ]
  },
  {
   "cell_type": "code",
   "execution_count": null,
   "metadata": {},
   "outputs": [],
   "source": [
    "print(loop_string)"
   ]
  },
  {
   "cell_type": "markdown",
   "metadata": {},
   "source": [
    "### Define Query"
   ]
  },
  {
   "cell_type": "code",
   "execution_count": null,
   "metadata": {},
   "outputs": [],
   "source": [
    "queryfromProd = r\"\"\"\n",
    "\n",
    "removed\n",
    "\n",
    "\"\"\".format(loop_string)"
   ]
  },
  {
   "cell_type": "code",
   "execution_count": null,
   "metadata": {},
   "outputs": [],
   "source": [
    "#don't chnage the connection string\n",
    "prod_connect_string =  'removed'                        \n",
    "                        \n",
    "connProd = pyodbc.connect(prod_connect_string,autocommit=True)"
   ]
  },
  {
   "cell_type": "code",
   "execution_count": null,
   "metadata": {},
   "outputs": [],
   "source": [
    "%timeit\n",
    "write_header = True\n",
    "directory = r'data'\n",
    "file = r'\\deposit_data_full_condensed.csv'\n",
    "df = pd.read_sql(queryfromProd, connProd, chunksize= 10000)\n",
    "for chunk in df:\n",
    "    chunk.to_csv(directory + file, \n",
    "                              sep=',', \n",
    "                              index = False,\n",
    "                              header= write_header,\n",
    "                              encoding = 'utf-8',\n",
    "                              mode='a')\n",
    "    write_header = False"
   ]
  },
  {
   "cell_type": "code",
   "execution_count": null,
   "metadata": {},
   "outputs": [],
   "source": [
    "df_partial_import = pd.read_csv(directory+file, dtype={**{i: 'int32' for i in int_cols} , **{i: 'float32' for i in float_cols}})"
   ]
  },
  {
   "cell_type": "code",
   "execution_count": null,
   "metadata": {},
   "outputs": [],
   "source": [
    "df_partial_import"
   ]
  },
  {
   "cell_type": "code",
   "execution_count": null,
   "metadata": {},
   "outputs": [],
   "source": [
    "df_partial_import.closed_within_next_month.mean()"
   ]
  },
  {
   "cell_type": "markdown",
   "metadata": {},
   "source": [
    "### Look at data to make sure it's what we expect"
   ]
  },
  {
   "cell_type": "code",
   "execution_count": null,
   "metadata": {},
   "outputs": [],
   "source": [
    "def df_stats(df):\n",
    "    print(df.dtypes)\n",
    "    print('_'*100)\n",
    "    # dataframe.size \n",
    "    size = df.size \n",
    "\n",
    "    # dataframe.shape \n",
    "    shape = df.shape \n",
    "\n",
    "    # dataframe.ndim \n",
    "    df_ndim = df.ndim \n",
    "\n",
    "    #df mem usage\n",
    "    df_memu = df.memory_usage() \n",
    "\n",
    "\n",
    "    # printing size and shape \n",
    "    print(\"Size = {}\\n\\\n",
    "    Shape = {}\\n\\\n",
    "    Shape[0] x Shape[1] = {}\\n\\\n",
    "    Memory Usage = \\n{}\". \n",
    "    format(size, shape, shape[0]*shape[1], df_memu)) "
   ]
  },
  {
   "cell_type": "code",
   "execution_count": null,
   "metadata": {},
   "outputs": [],
   "source": [
    "df_stats(df_partial_import)"
   ]
  },
  {
   "cell_type": "code",
   "execution_count": null,
   "metadata": {},
   "outputs": [],
   "source": [
    "df_partial_import.to_pickle(r'data/deposit_data_consensed.pkl')"
   ]
  }
 ],
 "metadata": {
  "kernelspec": {
   "display_name": "Python 3",
   "language": "python",
   "name": "python3"
  },
  "language_info": {
   "codemirror_mode": {
    "name": "ipython",
    "version": 3
   },
   "file_extension": ".py",
   "mimetype": "text/x-python",
   "name": "python",
   "nbconvert_exporter": "python",
   "pygments_lexer": "ipython3",
   "version": "3.6.7"
  }
 },
 "nbformat": 4,
 "nbformat_minor": 2
}
